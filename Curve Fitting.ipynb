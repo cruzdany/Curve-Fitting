{
 "cells": [
  {
   "cell_type": "markdown",
   "metadata": {},
   "source": [
    "# Homework Daniel Giordanno Magaña Cruz"
   ]
  },
  {
   "cell_type": "markdown",
   "metadata": {},
   "source": [
    "## 1. Generate a training set of N = 10 observations"
   ]
  },
  {
   "cell_type": "code",
   "execution_count": 1,
   "metadata": {},
   "outputs": [],
   "source": [
    "import pandas as pd \n",
    "import numpy as np\n",
    "import matplotlib.pyplot as plt\n",
    "import seaborn as sns"
   ]
  },
  {
   "cell_type": "code",
   "execution_count": 2,
   "metadata": {},
   "outputs": [],
   "source": [
    "N = 10\n",
    "sigma = 0.25"
   ]
  },
  {
   "cell_type": "code",
   "execution_count": 3,
   "metadata": {},
   "outputs": [],
   "source": [
    "x = np.linspace(0, 2*np.pi, N)\n",
    "y = np.sin(x) + sigma * np.random.randn(N)"
   ]
  },
  {
   "cell_type": "code",
   "execution_count": 4,
   "metadata": {},
   "outputs": [],
   "source": [
    "xsin = np.linspace(0, 2*np.pi, 100)\n",
    "ysin = np.sin(xsin)"
   ]
  },
  {
   "cell_type": "code",
   "execution_count": 5,
   "metadata": {},
   "outputs": [
    {
     "data": {
      "image/png": "[encoded data removed]",
      "text/plain": [
       "<Figure size 432x288 with 1 Axes>"
      ]
     },
     "metadata": {
      "needs_background": "light"
     },
     "output_type": "display_data"
    }
   ],
   "source": [
    "fig, ax = plt.subplots()\n",
    "\n",
    "ax.plot(x,y, '.', marker = 'o', markerfacecolor = 'none')\n",
    "ax.plot(xsin, ysin, '-', color = 'red')\n",
    "ax.set(xlabel = 'x', ylabel = 'y')\n",
    "plt.show()"
   ]
  },
  {
   "cell_type": "markdown",
   "metadata": {},
   "source": [
    "## 2. Fit the data using a polynomial function of the form"
   ]
  },
  {
   "cell_type": "code",
   "execution_count": 6,
   "metadata": {},
   "outputs": [],
   "source": [
    "def get_w(x,y, M):\n",
    "    \"\"\"\n",
    "    Function to obtain the w vector by fitting a M-th order polynomial.\n",
    "    \n",
    "    Input:\n",
    "        x: [Array] Independent variable\n",
    "        y: [Array] Dependent variable\n",
    "        M: [Integer] Polynomial order\n",
    "    \n",
    "    Output:\n",
    "        w: [Array] w vector\n",
    "    \"\"\"\n",
    "    \n",
    "    # 1. Obtaining the matrix A\n",
    "    \n",
    "    A = np.zeros((M+1,M+1))\n",
    "    \n",
    "    for i in range (M+1):\n",
    "        for j in range(M+1):\n",
    "            A[i,j] = (x ** (i+j)).sum()\n",
    "    \n",
    "    # 2. Obtaining the matrix B\n",
    "    \n",
    "    B = np.zeros((M+1))\n",
    "    for i in range((M+1)):\n",
    "        B[i] = ((x**i) * y).sum()\n",
    "    \n",
    "    # 3. Obtaining the inverse of A\n",
    "    \n",
    "    A_inv = np.linalg.inv(A)\n",
    "    \n",
    "    # 4. Multiplication to get the vector w\n",
    "    \n",
    "    w = np.matmul(A_inv, B)\n",
    "    \n",
    "    return w"
   ]
  },
  {
   "cell_type": "code",
   "execution_count": 7,
   "metadata": {},
   "outputs": [],
   "source": [
    "def y_predictor(x, w, M):\n",
    "    \"\"\"\n",
    "    Documentation!!\n",
    "        \n",
    "    \"\"\"\n",
    "    y = [w[i]* (x**i) for i in range(M+1)]\n",
    "    y = np.array(y)\n",
    "    y = sum(y)\n",
    "    return y"
   ]
  },
  {
   "cell_type": "code",
   "execution_count": 8,
   "metadata": {},
   "outputs": [],
   "source": [
    "M = 0\n",
    "w = get_w(x, y, M)\n",
    "y_prediction = y_predictor(x, w, M)"
   ]
  },
  {
   "cell_type": "code",
   "execution_count": 9,
   "metadata": {},
   "outputs": [],
   "source": [
    "xsmooth = np.linspace(0, 2*np.pi,100)\n",
    "ysmooth = y_predictor(xsmooth,w,M)"
   ]
  },
  {
   "cell_type": "code",
   "execution_count": 10,
   "metadata": {},
   "outputs": [
    {
     "data": {
      "image/png": "[encoded data removed]",
      "text/plain": [
       "<Figure size 432x288 with 1 Axes>"
      ]
     },
     "metadata": {
      "needs_background": "light"
     },
     "output_type": "display_data"
    }
   ],
   "source": [
    "fig, ax = plt.subplots()\n",
    "\n",
    "ax.plot(x,y, '.', marker = 'o', markerfacecolor = 'none')\n",
    "ax.plot(x,y_prediction, '.' , marker = 'x', markerfacecolor = 'none')\n",
    "ax.plot(xsmooth,ysmooth, '-' , color = 'blue')\n",
    "ax.plot(xsin, ysin, '-', color = 'green')\n",
    "ax.set(xlabel = 'x', ylabel = 'y')\n",
    "\n",
    "plt.show()"
   ]
  },
  {
   "cell_type": "markdown",
   "metadata": {},
   "source": [
    "## 3. Fit your data with different values of M (M = 0, 1, 3, 6, 9). "
   ]
  },
  {
   "cell_type": "code",
   "execution_count": 11,
   "metadata": {},
   "outputs": [],
   "source": [
    "def ERMS (y_prediction, y_real):\n",
    "    N = len(y_prediction)\n",
    "    error = ((y_prediction - y_real)**2).sum()/2\n",
    "    return np.sqrt(2*error/N)"
   ]
  },
  {
   "cell_type": "code",
   "execution_count": 12,
   "metadata": {},
   "outputs": [],
   "source": [
    "def ERMS1(M):   \n",
    "    \"\"\"\n",
    "    This function, takes the M and returns the ERMS OF M\n",
    "    \"\"\"\n",
    "    w = get_w(x, y, M)\n",
    "    y_prediction = y_predictor(x, w, M)\n",
    "    \"\"\"xsmooth = np.linspace(0, 2*np.pi,100)\n",
    "    ysmooth = y_predictor(xsmooth,w,M)\"\"\"\n",
    "    return ERMS(y_prediction,y)"
   ]
  },
  {
   "cell_type": "code",
   "execution_count": 13,
   "metadata": {},
   "outputs": [
    {
     "data": {
      "text/plain": [
       "0.8351799856236095"
      ]
     },
     "execution_count": 13,
     "metadata": {},
     "output_type": "execute_result"
    }
   ],
   "source": [
    "ERMS1(0)"
   ]
  },
  {
   "cell_type": "code",
   "execution_count": 14,
   "metadata": {},
   "outputs": [
    {
     "data": {
      "text/plain": [
       "0.6024949238233023"
      ]
     },
     "execution_count": 14,
     "metadata": {},
     "output_type": "execute_result"
    }
   ],
   "source": [
    "ERMS1(1)"
   ]
  },
  {
   "cell_type": "code",
   "execution_count": 15,
   "metadata": {},
   "outputs": [
    {
     "data": {
      "text/plain": [
       "0.36893635039575806"
      ]
     },
     "execution_count": 15,
     "metadata": {},
     "output_type": "execute_result"
    }
   ],
   "source": [
    "ERMS1(3)"
   ]
  },
  {
   "cell_type": "code",
   "execution_count": 16,
   "metadata": {},
   "outputs": [
    {
     "data": {
      "text/plain": [
       "0.20038171332366747"
      ]
     },
     "execution_count": 16,
     "metadata": {},
     "output_type": "execute_result"
    }
   ],
   "source": [
    "ERMS1(6)"
   ]
  },
  {
   "cell_type": "code",
   "execution_count": 17,
   "metadata": {},
   "outputs": [
    {
     "data": {
      "text/plain": [
       "0.0002316140213563621"
      ]
     },
     "execution_count": 17,
     "metadata": {},
     "output_type": "execute_result"
    }
   ],
   "source": [
    "ERMS1(9)"
   ]
  },
  {
   "cell_type": "code",
   "execution_count": 18,
   "metadata": {},
   "outputs": [],
   "source": [
    "df = {'M':  [0,1,3,6,9],\n",
    "        'ERMS': [0.7483467252418085,0.5815832274538458,0.2900536226473722,0.27696416113200306,0.0004555487628998617]}"
   ]
  },
  {
   "cell_type": "code",
   "execution_count": 19,
   "metadata": {},
   "outputs": [],
   "source": [
    "table = pd.DataFrame(df,columns={'ERMS','M'})"
   ]
  },
  {
   "cell_type": "code",
   "execution_count": 20,
   "metadata": {},
   "outputs": [
    {
     "data": {
      "text/html": [
       "<div>\n",
       "<style scoped>\n",
       "    .dataframe tbody tr th:only-of-type {\n",
       "        vertical-align: middle;\n",
       "    }\n",
       "\n",
       "    .dataframe tbody tr th {\n",
       "        vertical-align: top;\n",
       "    }\n",
       "\n",
       "    .dataframe thead th {\n",
       "        text-align: right;\n",
       "    }\n",
       "</style>\n",
       "<table border=\"1\" class=\"dataframe\">\n",
       "  <thead>\n",
       "    <tr style=\"text-align: right;\">\n",
       "      <th></th>\n",
       "      <th>ERMS</th>\n",
       "      <th>M</th>\n",
       "    </tr>\n",
       "  </thead>\n",
       "  <tbody>\n",
       "    <tr>\n",
       "      <th>0</th>\n",
       "      <td>0.748347</td>\n",
       "      <td>0</td>\n",
       "    </tr>\n",
       "    <tr>\n",
       "      <th>1</th>\n",
       "      <td>0.581583</td>\n",
       "      <td>1</td>\n",
       "    </tr>\n",
       "    <tr>\n",
       "      <th>2</th>\n",
       "      <td>0.290054</td>\n",
       "      <td>3</td>\n",
       "    </tr>\n",
       "    <tr>\n",
       "      <th>3</th>\n",
       "      <td>0.276964</td>\n",
       "      <td>6</td>\n",
       "    </tr>\n",
       "    <tr>\n",
       "      <th>4</th>\n",
       "      <td>0.000456</td>\n",
       "      <td>9</td>\n",
       "    </tr>\n",
       "  </tbody>\n",
       "</table>\n",
       "</div>"
      ],
      "text/plain": [
       "       ERMS  M\n",
       "0  0.748347  0\n",
       "1  0.581583  1\n",
       "2  0.290054  3\n",
       "3  0.276964  6\n",
       "4  0.000456  9"
      ]
     },
     "execution_count": 20,
     "metadata": {},
     "output_type": "execute_result"
    }
   ],
   "source": [
    "table"
   ]
  },
  {
   "cell_type": "markdown",
   "metadata": {},
   "source": [
    "## 4. Make a new simulation with N = 20."
   ]
  },
  {
   "cell_type": "code",
   "execution_count": 21,
   "metadata": {},
   "outputs": [],
   "source": [
    "from sklearn.model_selection import train_test_split"
   ]
  },
  {
   "cell_type": "code",
   "execution_count": 22,
   "metadata": {},
   "outputs": [],
   "source": [
    "N = 20\n",
    "sigma = 0.25"
   ]
  },
  {
   "cell_type": "code",
   "execution_count": 23,
   "metadata": {},
   "outputs": [],
   "source": [
    "x3 = np.linspace(0, 2*np.pi, N)\n",
    "y3 = np.sin(x3) + sigma * np.random.randn(N)"
   ]
  },
  {
   "cell_type": "code",
   "execution_count": 24,
   "metadata": {},
   "outputs": [],
   "source": [
    "x_train, x_test, y_train, y_test = train_test_split(x3, y3, test_size=0.3)"
   ]
  },
  {
   "cell_type": "code",
   "execution_count": 25,
   "metadata": {},
   "outputs": [
    {
     "data": {
      "text/plain": [
       "(14,)"
      ]
     },
     "execution_count": 25,
     "metadata": {},
     "output_type": "execute_result"
    }
   ],
   "source": [
    "x_train.shape"
   ]
  },
  {
   "cell_type": "code",
   "execution_count": 26,
   "metadata": {},
   "outputs": [
    {
     "data": {
      "text/plain": [
       "(6,)"
      ]
     },
     "execution_count": 26,
     "metadata": {},
     "output_type": "execute_result"
    }
   ],
   "source": [
    "x_test.shape"
   ]
  },
  {
   "cell_type": "code",
   "execution_count": 27,
   "metadata": {},
   "outputs": [
    {
     "data": {
      "text/plain": [
       "(14,)"
      ]
     },
     "execution_count": 27,
     "metadata": {},
     "output_type": "execute_result"
    }
   ],
   "source": [
    "y_train.shape"
   ]
  },
  {
   "cell_type": "code",
   "execution_count": 28,
   "metadata": {},
   "outputs": [
    {
     "data": {
      "text/plain": [
       "(6,)"
      ]
     },
     "execution_count": 28,
     "metadata": {},
     "output_type": "execute_result"
    }
   ],
   "source": [
    "y_test.shape"
   ]
  },
  {
   "cell_type": "code",
   "execution_count": 29,
   "metadata": {},
   "outputs": [],
   "source": [
    "def get_w4(x3 ,y3, m):\n",
    "    ws = []\n",
    "    for i in range (m):\n",
    "        w = get_w(x3, y3, i)\n",
    "        ws.append(w)\n",
    "    return ws"
   ]
  },
  {
   "cell_type": "code",
   "execution_count": 30,
   "metadata": {},
   "outputs": [],
   "source": [
    "a = get_w4(x_train, y_train, 10)"
   ]
  },
  {
   "cell_type": "code",
   "execution_count": 31,
   "metadata": {},
   "outputs": [],
   "source": [
    "def find_erros(x3, y3, w):\n",
    "    erros=[]\n",
    "    for i in range (10):\n",
    "        y_prediction = y_predictor(x3, w[i], i)\n",
    "        a=ERMS(y_prediction,y)\n",
    "        erros.append(a)\n",
    "    return erros"
   ]
  },
  {
   "cell_type": "code",
   "execution_count": 32,
   "metadata": {},
   "outputs": [],
   "source": [
    "def find_erros(x3, y3, w):\n",
    "    erros=[]\n",
    "    for i in range (10):\n",
    "        y_prediction = y_predictor(x3, w[i], i)\n",
    "        a=ERMS(y_prediction,y3)\n",
    "        erros.append(a)\n",
    "    return erros"
   ]
  },
  {
   "cell_type": "code",
   "execution_count": 33,
   "metadata": {},
   "outputs": [
    {
     "data": {
      "text/plain": [
       "[0, 1, 2, 3, 4, 5, 6, 7, 8, 9]"
      ]
     },
     "execution_count": 33,
     "metadata": {},
     "output_type": "execute_result"
    }
   ],
   "source": [
    "train = find_erros(x_train, y_train, a )\n",
    "test = find_erros(x_test, y_test,a)\n",
    "m=list({0,1,2,3,4,5,6,7,8,9})\n",
    "m"
   ]
  },
  {
   "cell_type": "code",
   "execution_count": 34,
   "metadata": {},
   "outputs": [
    {
     "data": {
      "image/png": "[encoded data removed]",
      "text/plain": [
       "<Figure size 432x288 with 1 Axes>"
      ]
     },
     "metadata": {
      "needs_background": "light"
     },
     "output_type": "display_data"
    }
   ],
   "source": [
    "fig, ax = plt.subplots()\n",
    "\n",
    "ax.plot(m,train, '-', marker = 'o', color = 'blue',label = 'train')\n",
    "ax.plot(m,test, '-', marker = 'o', color = 'red', label = 'test')\n",
    "ax.set(xlabel = 'M', ylabel = 'EMRS')\n",
    "fig.suptitle('ERMS', fontsize=16)\n",
    "ax.legend()\n",
    "\n",
    "plt.show()"
   ]
  },
  {
   "cell_type": "markdown",
   "metadata": {},
   "source": [
    "## 5. Make two simulation with N1 = 15 and N2 = 100."
   ]
  },
  {
   "cell_type": "markdown",
   "metadata": {},
   "source": [
    "### First simulation"
   ]
  },
  {
   "cell_type": "code",
   "execution_count": 35,
   "metadata": {},
   "outputs": [],
   "source": [
    "N1=15\n",
    "sigma=0.25"
   ]
  },
  {
   "cell_type": "code",
   "execution_count": 36,
   "metadata": {},
   "outputs": [],
   "source": [
    "x1 = np.linspace(0, 2*np.pi, N1)\n",
    "y1 = np.sin(x1) + sigma * np.random.randn(N1)"
   ]
  },
  {
   "cell_type": "code",
   "execution_count": 37,
   "metadata": {},
   "outputs": [],
   "source": [
    "xsin1 = np.linspace(0, 2*np.pi, 100)\n",
    "ysin1 = np.sin(xsin1)"
   ]
  },
  {
   "cell_type": "code",
   "execution_count": 38,
   "metadata": {},
   "outputs": [],
   "source": [
    "def get_w(x1,y1, M):\n",
    "    \"\"\"\n",
    "    Function to obtain the w vector by fitting a M-th order polynomial.\n",
    "    \n",
    "    Input:\n",
    "        x: [Array] Independent variable\n",
    "        y: [Array] Dependent variable\n",
    "        M: [Integer] Polynomial order\n",
    "    \n",
    "    Output:\n",
    "        w: [Array] w vector\n",
    "    \"\"\"\n",
    "    \n",
    "    # 1. Obtaining the matrix A\n",
    "    \n",
    "    A = np.zeros((M+1,M+1))\n",
    "    \n",
    "    for i in range (M+1):\n",
    "        for j in range(M+1):\n",
    "            A[i,j] = (x1** (i+j)).sum()\n",
    "    \n",
    "    # 2. Obtaining the matrix B\n",
    "    \n",
    "    B = np.zeros((M+1))\n",
    "    for i in range((M+1)):\n",
    "        B[i] = ((x1**i) * y1).sum()\n",
    "    \n",
    "    # 3. Obtaining the inverse of A\n",
    "    \n",
    "    A_inv = np.linalg.inv(A)\n",
    "    \n",
    "    # 4. Multiplication to get the vector w\n",
    "    \n",
    "    w = np.matmul(A_inv, B)\n",
    "    \n",
    "    return w"
   ]
  },
  {
   "cell_type": "code",
   "execution_count": 39,
   "metadata": {},
   "outputs": [],
   "source": [
    "def y_predictor1(x1, w, M):\n",
    "    \"\"\"\n",
    "    Documentation!!\n",
    "        \n",
    "    \"\"\"\n",
    "    y = [w[i]* (x1**i) for i in range(M+1)]\n",
    "    y = np.array(y)\n",
    "    y = sum(y)\n",
    "    return y"
   ]
  },
  {
   "cell_type": "code",
   "execution_count": 40,
   "metadata": {},
   "outputs": [],
   "source": [
    "def ERMS (y_prediction, y_real):\n",
    "    N = len(y_prediction)\n",
    "    error = ((y_prediction - y_real)**2).sum()/2\n",
    "    return np.sqrt(2*error/N)"
   ]
  },
  {
   "cell_type": "code",
   "execution_count": 41,
   "metadata": {},
   "outputs": [],
   "source": [
    "M = 9\n",
    "w = get_w(x1, y1, M)\n",
    "y_prediction1 = y_predictor1(x1, w, M)"
   ]
  },
  {
   "cell_type": "code",
   "execution_count": 42,
   "metadata": {},
   "outputs": [
    {
     "data": {
      "text/plain": [
       "0.16989575167524937"
      ]
     },
     "execution_count": 42,
     "metadata": {},
     "output_type": "execute_result"
    }
   ],
   "source": [
    "ERMS(y_prediction1,y1)"
   ]
  },
  {
   "cell_type": "code",
   "execution_count": 43,
   "metadata": {},
   "outputs": [],
   "source": [
    "xsmooth = np.linspace(0, 2*np.pi,100)\n",
    "ysmooth = y_predictor1(xsmooth,w,M)"
   ]
  },
  {
   "cell_type": "code",
   "execution_count": 44,
   "metadata": {},
   "outputs": [
    {
     "data": {
      "image/png": "[encoded data removed]",
      "text/plain": [
       "<Figure size 432x288 with 1 Axes>"
      ]
     },
     "metadata": {
      "needs_background": "light"
     },
     "output_type": "display_data"
    }
   ],
   "source": [
    "fig, ax = plt.subplots()\n",
    "\n",
    "ax.plot(x1,y1, '.', marker = 'o', markerfacecolor = 'none')\n",
    "ax.plot(x1,y_prediction1, '.' , marker = 'x', markerfacecolor = 'none')\n",
    "ax.plot(xsmooth,ysmooth, '-' , color = 'blue')\n",
    "ax.plot(xsin1, ysin1, '-', color = 'green')\n",
    "ax.set(xlabel = 'x', ylabel = 'y')\n",
    "\n",
    "plt.show()"
   ]
  },
  {
   "cell_type": "markdown",
   "metadata": {},
   "source": [
    "### Second simulation"
   ]
  },
  {
   "cell_type": "code",
   "execution_count": 45,
   "metadata": {},
   "outputs": [],
   "source": [
    "N2=100\n",
    "sigma=0.25"
   ]
  },
  {
   "cell_type": "code",
   "execution_count": 46,
   "metadata": {},
   "outputs": [],
   "source": [
    "x2 = np.linspace(0, 2*np.pi, N2)\n",
    "y2 = np.sin(x2) + sigma * np.random.randn(N2)"
   ]
  },
  {
   "cell_type": "code",
   "execution_count": 47,
   "metadata": {},
   "outputs": [],
   "source": [
    "xsin2 = np.linspace(0, 2*np.pi, 100)\n",
    "ysin2 = np.sin(xsin2)"
   ]
  },
  {
   "cell_type": "code",
   "execution_count": 48,
   "metadata": {},
   "outputs": [],
   "source": [
    "def get_w2(x2,y2, M):\n",
    "    \"\"\"\n",
    "    Function to obtain the w vector by fitting a M-th order polynomial.\n",
    "    \n",
    "    Input:\n",
    "        x: [Array] Independent variable\n",
    "        y: [Array] Dependent variable\n",
    "        M: [Integer] Polynomial order\n",
    "    \n",
    "    Output:\n",
    "        w: [Array] w vector\n",
    "    \"\"\"\n",
    "    \n",
    "    # 1. Obtaining the matrix A\n",
    "    \n",
    "    A = np.zeros((M+1,M+1))\n",
    "    \n",
    "    for i in range (M+1):\n",
    "        for j in range(M+1):\n",
    "            A[i,j] = (x2** (i+j)).sum()\n",
    "    \n",
    "    # 2. Obtaining the matrix B\n",
    "    \n",
    "    B = np.zeros((M+1))\n",
    "    for i in range((M+1)):\n",
    "        B[i] = ((x2**i) * y2).sum()\n",
    "    \n",
    "    # 3. Obtaining the inverse of A\n",
    "    \n",
    "    A_inv = np.linalg.inv(A)\n",
    "    \n",
    "    # 4. Multiplication to get the vector w\n",
    "    \n",
    "    w = np.matmul(A_inv, B)\n",
    "    \n",
    "    return w"
   ]
  },
  {
   "cell_type": "code",
   "execution_count": 49,
   "metadata": {},
   "outputs": [],
   "source": [
    "def y_predictor2(x2, w, M):\n",
    "    \"\"\"\n",
    "    Documentation!!\n",
    "        \n",
    "    \"\"\"\n",
    "    y = [w[i]* (x2**i) for i in range(M+1)]\n",
    "    y = np.array(y)\n",
    "    y = sum(y)\n",
    "    return y"
   ]
  },
  {
   "cell_type": "code",
   "execution_count": 50,
   "metadata": {},
   "outputs": [],
   "source": [
    "def ERMS (y_prediction, y_real):\n",
    "    N = len(y_prediction)\n",
    "    error = ((y_prediction - y_real)**2).sum()/2\n",
    "    return np.sqrt(2*error/N)"
   ]
  },
  {
   "cell_type": "code",
   "execution_count": 51,
   "metadata": {},
   "outputs": [],
   "source": [
    "M = 9\n",
    "w = get_w2(x2, y2, M)\n",
    "y_prediction2 = y_predictor2(x2, w, M)"
   ]
  },
  {
   "cell_type": "code",
   "execution_count": 52,
   "metadata": {},
   "outputs": [],
   "source": [
    "xsmooth2 = np.linspace(0, 2*np.pi,100)\n",
    "ysmooth2 = y_predictor2(xsmooth2,w,M)"
   ]
  },
  {
   "cell_type": "code",
   "execution_count": 53,
   "metadata": {},
   "outputs": [
    {
     "data": {
      "image/png": "[encoded data removed]",
      "text/plain": [
       "<Figure size 432x288 with 1 Axes>"
      ]
     },
     "metadata": {
      "needs_background": "light"
     },
     "output_type": "display_data"
    }
   ],
   "source": [
    "fig, ax = plt.subplots()\n",
    "\n",
    "ax.plot(x2,y2, '.', marker = 'o', markerfacecolor = 'none')\n",
    "ax.plot(x2,y_prediction2, '.' , marker = 'x', markerfacecolor = 'none')\n",
    "ax.plot(xsmooth2,ysmooth2, '-' , color = 'blue')\n",
    "ax.plot(xsin2, ysin2, '-', color = 'green')\n",
    "ax.set(xlabel = 'x', ylabel = 'y')\n",
    "\n",
    "plt.show()"
   ]
  },
  {
   "cell_type": "markdown",
   "metadata": {},
   "source": [
    "## 6. The dataset auto.csv includes the characteristics of different cars"
   ]
  },
  {
   "cell_type": "code",
   "execution_count": 54,
   "metadata": {},
   "outputs": [],
   "source": [
    "df = pd.read_csv('Auto.data', sep = '\\s+', na_values='?')"
   ]
  },
  {
   "cell_type": "code",
   "execution_count": 55,
   "metadata": {},
   "outputs": [
    {
     "data": {
      "text/html": [
       "<div>\n",
       "<style scoped>\n",
       "    .dataframe tbody tr th:only-of-type {\n",
       "        vertical-align: middle;\n",
       "    }\n",
       "\n",
       "    .dataframe tbody tr th {\n",
       "        vertical-align: top;\n",
       "    }\n",
       "\n",
       "    .dataframe thead th {\n",
       "        text-align: right;\n",
       "    }\n",
       "</style>\n",
       "<table border=\"1\" class=\"dataframe\">\n",
       "  <thead>\n",
       "    <tr style=\"text-align: right;\">\n",
       "      <th></th>\n",
       "      <th>mpg</th>\n",
       "      <th>cylinders</th>\n",
       "      <th>displacement</th>\n",
       "      <th>horsepower</th>\n",
       "      <th>weight</th>\n",
       "      <th>acceleration</th>\n",
       "      <th>year</th>\n",
       "      <th>origin</th>\n",
       "      <th>name</th>\n",
       "    </tr>\n",
       "  </thead>\n",
       "  <tbody>\n",
       "    <tr>\n",
       "      <th>0</th>\n",
       "      <td>18.0</td>\n",
       "      <td>8</td>\n",
       "      <td>307.0</td>\n",
       "      <td>130.0</td>\n",
       "      <td>3504.0</td>\n",
       "      <td>12.0</td>\n",
       "      <td>70</td>\n",
       "      <td>1</td>\n",
       "      <td>chevrolet chevelle malibu</td>\n",
       "    </tr>\n",
       "    <tr>\n",
       "      <th>1</th>\n",
       "      <td>15.0</td>\n",
       "      <td>8</td>\n",
       "      <td>350.0</td>\n",
       "      <td>165.0</td>\n",
       "      <td>3693.0</td>\n",
       "      <td>11.5</td>\n",
       "      <td>70</td>\n",
       "      <td>1</td>\n",
       "      <td>buick skylark 320</td>\n",
       "    </tr>\n",
       "    <tr>\n",
       "      <th>2</th>\n",
       "      <td>18.0</td>\n",
       "      <td>8</td>\n",
       "      <td>318.0</td>\n",
       "      <td>150.0</td>\n",
       "      <td>3436.0</td>\n",
       "      <td>11.0</td>\n",
       "      <td>70</td>\n",
       "      <td>1</td>\n",
       "      <td>plymouth satellite</td>\n",
       "    </tr>\n",
       "    <tr>\n",
       "      <th>3</th>\n",
       "      <td>16.0</td>\n",
       "      <td>8</td>\n",
       "      <td>304.0</td>\n",
       "      <td>150.0</td>\n",
       "      <td>3433.0</td>\n",
       "      <td>12.0</td>\n",
       "      <td>70</td>\n",
       "      <td>1</td>\n",
       "      <td>amc rebel sst</td>\n",
       "    </tr>\n",
       "    <tr>\n",
       "      <th>4</th>\n",
       "      <td>17.0</td>\n",
       "      <td>8</td>\n",
       "      <td>302.0</td>\n",
       "      <td>140.0</td>\n",
       "      <td>3449.0</td>\n",
       "      <td>10.5</td>\n",
       "      <td>70</td>\n",
       "      <td>1</td>\n",
       "      <td>ford torino</td>\n",
       "    </tr>\n",
       "  </tbody>\n",
       "</table>\n",
       "</div>"
      ],
      "text/plain": [
       "    mpg  cylinders  displacement  horsepower  weight  acceleration  year  \\\n",
       "0  18.0          8         307.0       130.0  3504.0          12.0    70   \n",
       "1  15.0          8         350.0       165.0  3693.0          11.5    70   \n",
       "2  18.0          8         318.0       150.0  3436.0          11.0    70   \n",
       "3  16.0          8         304.0       150.0  3433.0          12.0    70   \n",
       "4  17.0          8         302.0       140.0  3449.0          10.5    70   \n",
       "\n",
       "   origin                       name  \n",
       "0       1  chevrolet chevelle malibu  \n",
       "1       1          buick skylark 320  \n",
       "2       1         plymouth satellite  \n",
       "3       1              amc rebel sst  \n",
       "4       1                ford torino  "
      ]
     },
     "execution_count": 55,
     "metadata": {},
     "output_type": "execute_result"
    }
   ],
   "source": [
    "df.head()"
   ]
  },
  {
   "cell_type": "code",
   "execution_count": 56,
   "metadata": {},
   "outputs": [
    {
     "data": {
      "text/plain": [
       "(397, 9)"
      ]
     },
     "execution_count": 56,
     "metadata": {},
     "output_type": "execute_result"
    }
   ],
   "source": [
    "df.shape"
   ]
  },
  {
   "cell_type": "code",
   "execution_count": 57,
   "metadata": {},
   "outputs": [
    {
     "name": "stdout",
     "output_type": "stream",
     "text": [
      "<class 'pandas.core.frame.DataFrame'>\n",
      "RangeIndex: 397 entries, 0 to 396\n",
      "Data columns (total 9 columns):\n",
      "mpg             397 non-null float64\n",
      "cylinders       397 non-null int64\n",
      "displacement    397 non-null float64\n",
      "horsepower      392 non-null float64\n",
      "weight          397 non-null float64\n",
      "acceleration    397 non-null float64\n",
      "year            397 non-null int64\n",
      "origin          397 non-null int64\n",
      "name            397 non-null object\n",
      "dtypes: float64(5), int64(3), object(1)\n",
      "memory usage: 28.0+ KB\n"
     ]
    }
   ],
   "source": [
    "df.info()"
   ]
  },
  {
   "cell_type": "code",
   "execution_count": 58,
   "metadata": {},
   "outputs": [
    {
     "data": {
      "text/plain": [
       "mpg             0\n",
       "cylinders       0\n",
       "displacement    0\n",
       "horsepower      5\n",
       "weight          0\n",
       "acceleration    0\n",
       "year            0\n",
       "origin          0\n",
       "name            0\n",
       "dtype: int64"
      ]
     },
     "execution_count": 58,
     "metadata": {},
     "output_type": "execute_result"
    }
   ],
   "source": [
    "df.isnull().sum()"
   ]
  },
  {
   "cell_type": "code",
   "execution_count": 59,
   "metadata": {},
   "outputs": [
    {
     "name": "stdout",
     "output_type": "stream",
     "text": [
      "130.0\n",
      "165.0\n",
      "150.0\n",
      "150.0\n",
      "140.0\n",
      "198.0\n",
      "220.0\n",
      "215.0\n",
      "225.0\n",
      "190.0\n",
      "170.0\n",
      "160.0\n",
      "150.0\n",
      "225.0\n",
      "95.0\n",
      "95.0\n",
      "97.0\n",
      "85.0\n",
      "88.0\n",
      "46.0\n",
      "87.0\n",
      "90.0\n",
      "95.0\n",
      "113.0\n",
      "90.0\n",
      "215.0\n",
      "200.0\n",
      "210.0\n",
      "193.0\n",
      "88.0\n",
      "90.0\n",
      "95.0\n",
      "nan\n",
      "100.0\n",
      "105.0\n",
      "100.0\n",
      "88.0\n",
      "100.0\n",
      "165.0\n",
      "175.0\n",
      "153.0\n",
      "150.0\n",
      "180.0\n",
      "170.0\n",
      "175.0\n",
      "110.0\n",
      "72.0\n",
      "100.0\n",
      "88.0\n",
      "86.0\n",
      "90.0\n",
      "70.0\n",
      "76.0\n",
      "65.0\n",
      "69.0\n",
      "60.0\n",
      "70.0\n",
      "95.0\n",
      "80.0\n",
      "54.0\n",
      "90.0\n",
      "86.0\n",
      "165.0\n",
      "175.0\n",
      "150.0\n",
      "153.0\n",
      "150.0\n",
      "208.0\n",
      "155.0\n",
      "160.0\n",
      "190.0\n",
      "97.0\n",
      "150.0\n",
      "130.0\n",
      "140.0\n",
      "150.0\n",
      "112.0\n",
      "76.0\n",
      "87.0\n",
      "69.0\n",
      "86.0\n",
      "92.0\n",
      "97.0\n",
      "80.0\n",
      "88.0\n",
      "175.0\n",
      "150.0\n",
      "145.0\n",
      "137.0\n",
      "150.0\n",
      "198.0\n",
      "150.0\n",
      "158.0\n",
      "150.0\n",
      "215.0\n",
      "225.0\n",
      "175.0\n",
      "105.0\n",
      "100.0\n",
      "100.0\n",
      "88.0\n",
      "95.0\n",
      "46.0\n",
      "150.0\n",
      "167.0\n",
      "170.0\n",
      "180.0\n",
      "100.0\n",
      "88.0\n",
      "72.0\n",
      "94.0\n",
      "90.0\n",
      "85.0\n",
      "107.0\n",
      "90.0\n",
      "145.0\n",
      "230.0\n",
      "49.0\n",
      "75.0\n",
      "91.0\n",
      "112.0\n",
      "150.0\n",
      "110.0\n",
      "122.0\n",
      "180.0\n",
      "95.0\n",
      "nan\n",
      "100.0\n",
      "100.0\n",
      "67.0\n",
      "80.0\n",
      "65.0\n",
      "75.0\n",
      "100.0\n",
      "110.0\n",
      "105.0\n",
      "140.0\n",
      "150.0\n",
      "150.0\n",
      "140.0\n",
      "150.0\n",
      "83.0\n",
      "67.0\n",
      "78.0\n",
      "52.0\n",
      "61.0\n",
      "75.0\n",
      "75.0\n",
      "75.0\n",
      "97.0\n",
      "93.0\n",
      "67.0\n",
      "95.0\n",
      "105.0\n",
      "72.0\n",
      "72.0\n",
      "170.0\n",
      "145.0\n",
      "150.0\n",
      "148.0\n",
      "110.0\n",
      "105.0\n",
      "110.0\n",
      "95.0\n",
      "110.0\n",
      "110.0\n",
      "129.0\n",
      "75.0\n",
      "83.0\n",
      "100.0\n",
      "78.0\n",
      "96.0\n",
      "71.0\n",
      "97.0\n",
      "97.0\n",
      "70.0\n",
      "90.0\n",
      "95.0\n",
      "88.0\n",
      "98.0\n",
      "115.0\n",
      "53.0\n",
      "86.0\n",
      "81.0\n",
      "92.0\n",
      "79.0\n",
      "83.0\n",
      "140.0\n",
      "150.0\n",
      "120.0\n",
      "152.0\n",
      "100.0\n",
      "105.0\n",
      "81.0\n",
      "90.0\n",
      "52.0\n",
      "60.0\n",
      "70.0\n",
      "53.0\n",
      "100.0\n",
      "78.0\n",
      "110.0\n",
      "95.0\n",
      "71.0\n",
      "70.0\n",
      "75.0\n",
      "72.0\n",
      "102.0\n",
      "150.0\n",
      "88.0\n",
      "108.0\n",
      "120.0\n",
      "180.0\n",
      "145.0\n",
      "130.0\n",
      "150.0\n",
      "68.0\n",
      "80.0\n",
      "58.0\n",
      "96.0\n",
      "70.0\n",
      "145.0\n",
      "110.0\n",
      "145.0\n",
      "130.0\n",
      "110.0\n",
      "105.0\n",
      "100.0\n",
      "98.0\n",
      "180.0\n",
      "170.0\n",
      "190.0\n",
      "149.0\n",
      "78.0\n",
      "88.0\n",
      "75.0\n",
      "89.0\n",
      "63.0\n",
      "83.0\n",
      "67.0\n",
      "78.0\n",
      "97.0\n",
      "110.0\n",
      "110.0\n",
      "48.0\n",
      "66.0\n",
      "52.0\n",
      "70.0\n",
      "60.0\n",
      "110.0\n",
      "140.0\n",
      "139.0\n",
      "105.0\n",
      "95.0\n",
      "85.0\n",
      "88.0\n",
      "100.0\n",
      "90.0\n",
      "105.0\n",
      "85.0\n",
      "110.0\n",
      "120.0\n",
      "145.0\n",
      "165.0\n",
      "139.0\n",
      "140.0\n",
      "68.0\n",
      "95.0\n",
      "97.0\n",
      "75.0\n",
      "95.0\n",
      "105.0\n",
      "85.0\n",
      "97.0\n",
      "103.0\n",
      "125.0\n",
      "115.0\n",
      "133.0\n",
      "71.0\n",
      "68.0\n",
      "115.0\n",
      "85.0\n",
      "88.0\n",
      "90.0\n",
      "110.0\n",
      "130.0\n",
      "129.0\n",
      "138.0\n",
      "135.0\n",
      "155.0\n",
      "142.0\n",
      "125.0\n",
      "150.0\n",
      "71.0\n",
      "65.0\n",
      "80.0\n",
      "80.0\n",
      "77.0\n",
      "125.0\n",
      "71.0\n",
      "90.0\n",
      "70.0\n",
      "70.0\n",
      "65.0\n",
      "69.0\n",
      "90.0\n",
      "115.0\n",
      "115.0\n",
      "90.0\n",
      "76.0\n",
      "60.0\n",
      "70.0\n",
      "65.0\n",
      "90.0\n",
      "88.0\n",
      "90.0\n",
      "90.0\n",
      "78.0\n",
      "90.0\n",
      "75.0\n",
      "92.0\n",
      "75.0\n",
      "65.0\n",
      "105.0\n",
      "65.0\n",
      "48.0\n",
      "48.0\n",
      "67.0\n",
      "67.0\n",
      "67.0\n",
      "nan\n",
      "67.0\n",
      "62.0\n",
      "132.0\n",
      "100.0\n",
      "88.0\n",
      "nan\n",
      "72.0\n",
      "84.0\n",
      "84.0\n",
      "92.0\n",
      "110.0\n",
      "84.0\n",
      "58.0\n",
      "64.0\n",
      "60.0\n",
      "67.0\n",
      "65.0\n",
      "62.0\n",
      "68.0\n",
      "63.0\n",
      "65.0\n",
      "65.0\n",
      "74.0\n",
      "nan\n",
      "75.0\n",
      "75.0\n",
      "100.0\n",
      "74.0\n",
      "80.0\n",
      "76.0\n",
      "116.0\n",
      "120.0\n",
      "110.0\n",
      "105.0\n",
      "88.0\n",
      "85.0\n",
      "88.0\n",
      "88.0\n",
      "88.0\n",
      "85.0\n",
      "84.0\n",
      "90.0\n",
      "92.0\n",
      "74.0\n",
      "68.0\n",
      "68.0\n",
      "63.0\n",
      "70.0\n",
      "88.0\n",
      "75.0\n",
      "70.0\n",
      "67.0\n",
      "67.0\n",
      "67.0\n",
      "110.0\n",
      "85.0\n",
      "92.0\n",
      "112.0\n",
      "96.0\n",
      "84.0\n",
      "90.0\n",
      "86.0\n",
      "52.0\n",
      "84.0\n",
      "79.0\n",
      "82.0\n"
     ]
    }
   ],
   "source": [
    "for i in df.horsepower:\n",
    "    print(i)"
   ]
  },
  {
   "cell_type": "code",
   "execution_count": 60,
   "metadata": {},
   "outputs": [],
   "source": [
    "df.fillna(df.mean(),inplace=True)"
   ]
  },
  {
   "cell_type": "markdown",
   "metadata": {},
   "source": [
    "#### As we can see below, the nan values have been refilled with the mean of the other values"
   ]
  },
  {
   "cell_type": "code",
   "execution_count": 61,
   "metadata": {},
   "outputs": [
    {
     "name": "stdout",
     "output_type": "stream",
     "text": [
      "130.0\n",
      "165.0\n",
      "150.0\n",
      "150.0\n",
      "140.0\n",
      "198.0\n",
      "220.0\n",
      "215.0\n",
      "225.0\n",
      "190.0\n",
      "170.0\n",
      "160.0\n",
      "150.0\n",
      "225.0\n",
      "95.0\n",
      "95.0\n",
      "97.0\n",
      "85.0\n",
      "88.0\n",
      "46.0\n",
      "87.0\n",
      "90.0\n",
      "95.0\n",
      "113.0\n",
      "90.0\n",
      "215.0\n",
      "200.0\n",
      "210.0\n",
      "193.0\n",
      "88.0\n",
      "90.0\n",
      "95.0\n",
      "104.46938775510205\n",
      "100.0\n",
      "105.0\n",
      "100.0\n",
      "88.0\n",
      "100.0\n",
      "165.0\n",
      "175.0\n",
      "153.0\n",
      "150.0\n",
      "180.0\n",
      "170.0\n",
      "175.0\n",
      "110.0\n",
      "72.0\n",
      "100.0\n",
      "88.0\n",
      "86.0\n",
      "90.0\n",
      "70.0\n",
      "76.0\n",
      "65.0\n",
      "69.0\n",
      "60.0\n",
      "70.0\n",
      "95.0\n",
      "80.0\n",
      "54.0\n",
      "90.0\n",
      "86.0\n",
      "165.0\n",
      "175.0\n",
      "150.0\n",
      "153.0\n",
      "150.0\n",
      "208.0\n",
      "155.0\n",
      "160.0\n",
      "190.0\n",
      "97.0\n",
      "150.0\n",
      "130.0\n",
      "140.0\n",
      "150.0\n",
      "112.0\n",
      "76.0\n",
      "87.0\n",
      "69.0\n",
      "86.0\n",
      "92.0\n",
      "97.0\n",
      "80.0\n",
      "88.0\n",
      "175.0\n",
      "150.0\n",
      "145.0\n",
      "137.0\n",
      "150.0\n",
      "198.0\n",
      "150.0\n",
      "158.0\n",
      "150.0\n",
      "215.0\n",
      "225.0\n",
      "175.0\n",
      "105.0\n",
      "100.0\n",
      "100.0\n",
      "88.0\n",
      "95.0\n",
      "46.0\n",
      "150.0\n",
      "167.0\n",
      "170.0\n",
      "180.0\n",
      "100.0\n",
      "88.0\n",
      "72.0\n",
      "94.0\n",
      "90.0\n",
      "85.0\n",
      "107.0\n",
      "90.0\n",
      "145.0\n",
      "230.0\n",
      "49.0\n",
      "75.0\n",
      "91.0\n",
      "112.0\n",
      "150.0\n",
      "110.0\n",
      "122.0\n",
      "180.0\n",
      "95.0\n",
      "104.46938775510205\n",
      "100.0\n",
      "100.0\n",
      "67.0\n",
      "80.0\n",
      "65.0\n",
      "75.0\n",
      "100.0\n",
      "110.0\n",
      "105.0\n",
      "140.0\n",
      "150.0\n",
      "150.0\n",
      "140.0\n",
      "150.0\n",
      "83.0\n",
      "67.0\n",
      "78.0\n",
      "52.0\n",
      "61.0\n",
      "75.0\n",
      "75.0\n",
      "75.0\n",
      "97.0\n",
      "93.0\n",
      "67.0\n",
      "95.0\n",
      "105.0\n",
      "72.0\n",
      "72.0\n",
      "170.0\n",
      "145.0\n",
      "150.0\n",
      "148.0\n",
      "110.0\n",
      "105.0\n",
      "110.0\n",
      "95.0\n",
      "110.0\n",
      "110.0\n",
      "129.0\n",
      "75.0\n",
      "83.0\n",
      "100.0\n",
      "78.0\n",
      "96.0\n",
      "71.0\n",
      "97.0\n",
      "97.0\n",
      "70.0\n",
      "90.0\n",
      "95.0\n",
      "88.0\n",
      "98.0\n",
      "115.0\n",
      "53.0\n",
      "86.0\n",
      "81.0\n",
      "92.0\n",
      "79.0\n",
      "83.0\n",
      "140.0\n",
      "150.0\n",
      "120.0\n",
      "152.0\n",
      "100.0\n",
      "105.0\n",
      "81.0\n",
      "90.0\n",
      "52.0\n",
      "60.0\n",
      "70.0\n",
      "53.0\n",
      "100.0\n",
      "78.0\n",
      "110.0\n",
      "95.0\n",
      "71.0\n",
      "70.0\n",
      "75.0\n",
      "72.0\n",
      "102.0\n",
      "150.0\n",
      "88.0\n",
      "108.0\n",
      "120.0\n",
      "180.0\n",
      "145.0\n",
      "130.0\n",
      "150.0\n",
      "68.0\n",
      "80.0\n",
      "58.0\n",
      "96.0\n",
      "70.0\n",
      "145.0\n",
      "110.0\n",
      "145.0\n",
      "130.0\n",
      "110.0\n",
      "105.0\n",
      "100.0\n",
      "98.0\n",
      "180.0\n",
      "170.0\n",
      "190.0\n",
      "149.0\n",
      "78.0\n",
      "88.0\n",
      "75.0\n",
      "89.0\n",
      "63.0\n",
      "83.0\n",
      "67.0\n",
      "78.0\n",
      "97.0\n",
      "110.0\n",
      "110.0\n",
      "48.0\n",
      "66.0\n",
      "52.0\n",
      "70.0\n",
      "60.0\n",
      "110.0\n",
      "140.0\n",
      "139.0\n",
      "105.0\n",
      "95.0\n",
      "85.0\n",
      "88.0\n",
      "100.0\n",
      "90.0\n",
      "105.0\n",
      "85.0\n",
      "110.0\n",
      "120.0\n",
      "145.0\n",
      "165.0\n",
      "139.0\n",
      "140.0\n",
      "68.0\n",
      "95.0\n",
      "97.0\n",
      "75.0\n",
      "95.0\n",
      "105.0\n",
      "85.0\n",
      "97.0\n",
      "103.0\n",
      "125.0\n",
      "115.0\n",
      "133.0\n",
      "71.0\n",
      "68.0\n",
      "115.0\n",
      "85.0\n",
      "88.0\n",
      "90.0\n",
      "110.0\n",
      "130.0\n",
      "129.0\n",
      "138.0\n",
      "135.0\n",
      "155.0\n",
      "142.0\n",
      "125.0\n",
      "150.0\n",
      "71.0\n",
      "65.0\n",
      "80.0\n",
      "80.0\n",
      "77.0\n",
      "125.0\n",
      "71.0\n",
      "90.0\n",
      "70.0\n",
      "70.0\n",
      "65.0\n",
      "69.0\n",
      "90.0\n",
      "115.0\n",
      "115.0\n",
      "90.0\n",
      "76.0\n",
      "60.0\n",
      "70.0\n",
      "65.0\n",
      "90.0\n",
      "88.0\n",
      "90.0\n",
      "90.0\n",
      "78.0\n",
      "90.0\n",
      "75.0\n",
      "92.0\n",
      "75.0\n",
      "65.0\n",
      "105.0\n",
      "65.0\n",
      "48.0\n",
      "48.0\n",
      "67.0\n",
      "67.0\n",
      "67.0\n",
      "104.46938775510205\n",
      "67.0\n",
      "62.0\n",
      "132.0\n",
      "100.0\n",
      "88.0\n",
      "104.46938775510205\n",
      "72.0\n",
      "84.0\n",
      "84.0\n",
      "92.0\n",
      "110.0\n",
      "84.0\n",
      "58.0\n",
      "64.0\n",
      "60.0\n",
      "67.0\n",
      "65.0\n",
      "62.0\n",
      "68.0\n",
      "63.0\n",
      "65.0\n",
      "65.0\n",
      "74.0\n",
      "104.46938775510205\n",
      "75.0\n",
      "75.0\n",
      "100.0\n",
      "74.0\n",
      "80.0\n",
      "76.0\n",
      "116.0\n",
      "120.0\n",
      "110.0\n",
      "105.0\n",
      "88.0\n",
      "85.0\n",
      "88.0\n",
      "88.0\n",
      "88.0\n",
      "85.0\n",
      "84.0\n",
      "90.0\n",
      "92.0\n",
      "74.0\n",
      "68.0\n",
      "68.0\n",
      "63.0\n",
      "70.0\n",
      "88.0\n",
      "75.0\n",
      "70.0\n",
      "67.0\n",
      "67.0\n",
      "67.0\n",
      "110.0\n",
      "85.0\n",
      "92.0\n",
      "112.0\n",
      "96.0\n",
      "84.0\n",
      "90.0\n",
      "86.0\n",
      "52.0\n",
      "84.0\n",
      "79.0\n",
      "82.0\n"
     ]
    }
   ],
   "source": [
    "#\n",
    "for i in df.horsepower:\n",
    "    print(i)"
   ]
  },
  {
   "cell_type": "code",
   "execution_count": 62,
   "metadata": {},
   "outputs": [
    {
     "data": {
      "text/html": [
       "<div>\n",
       "<style scoped>\n",
       "    .dataframe tbody tr th:only-of-type {\n",
       "        vertical-align: middle;\n",
       "    }\n",
       "\n",
       "    .dataframe tbody tr th {\n",
       "        vertical-align: top;\n",
       "    }\n",
       "\n",
       "    .dataframe thead th {\n",
       "        text-align: right;\n",
       "    }\n",
       "</style>\n",
       "<table border=\"1\" class=\"dataframe\">\n",
       "  <thead>\n",
       "    <tr style=\"text-align: right;\">\n",
       "      <th></th>\n",
       "      <th>mpg</th>\n",
       "      <th>cylinders</th>\n",
       "      <th>displacement</th>\n",
       "      <th>horsepower</th>\n",
       "      <th>weight</th>\n",
       "      <th>acceleration</th>\n",
       "      <th>year</th>\n",
       "      <th>origin</th>\n",
       "    </tr>\n",
       "  </thead>\n",
       "  <tbody>\n",
       "    <tr>\n",
       "      <th>count</th>\n",
       "      <td>397.000000</td>\n",
       "      <td>397.000000</td>\n",
       "      <td>397.000000</td>\n",
       "      <td>397.000000</td>\n",
       "      <td>397.000000</td>\n",
       "      <td>397.000000</td>\n",
       "      <td>397.000000</td>\n",
       "      <td>397.000000</td>\n",
       "    </tr>\n",
       "    <tr>\n",
       "      <th>mean</th>\n",
       "      <td>23.515869</td>\n",
       "      <td>5.458438</td>\n",
       "      <td>193.532746</td>\n",
       "      <td>104.469388</td>\n",
       "      <td>2970.261965</td>\n",
       "      <td>15.555668</td>\n",
       "      <td>75.994962</td>\n",
       "      <td>1.574307</td>\n",
       "    </tr>\n",
       "    <tr>\n",
       "      <th>std</th>\n",
       "      <td>7.825804</td>\n",
       "      <td>1.701577</td>\n",
       "      <td>104.379583</td>\n",
       "      <td>38.247388</td>\n",
       "      <td>847.904119</td>\n",
       "      <td>2.749995</td>\n",
       "      <td>3.690005</td>\n",
       "      <td>0.802549</td>\n",
       "    </tr>\n",
       "    <tr>\n",
       "      <th>min</th>\n",
       "      <td>9.000000</td>\n",
       "      <td>3.000000</td>\n",
       "      <td>68.000000</td>\n",
       "      <td>46.000000</td>\n",
       "      <td>1613.000000</td>\n",
       "      <td>8.000000</td>\n",
       "      <td>70.000000</td>\n",
       "      <td>1.000000</td>\n",
       "    </tr>\n",
       "    <tr>\n",
       "      <th>25%</th>\n",
       "      <td>17.500000</td>\n",
       "      <td>4.000000</td>\n",
       "      <td>104.000000</td>\n",
       "      <td>76.000000</td>\n",
       "      <td>2223.000000</td>\n",
       "      <td>13.800000</td>\n",
       "      <td>73.000000</td>\n",
       "      <td>1.000000</td>\n",
       "    </tr>\n",
       "    <tr>\n",
       "      <th>50%</th>\n",
       "      <td>23.000000</td>\n",
       "      <td>4.000000</td>\n",
       "      <td>146.000000</td>\n",
       "      <td>95.000000</td>\n",
       "      <td>2800.000000</td>\n",
       "      <td>15.500000</td>\n",
       "      <td>76.000000</td>\n",
       "      <td>1.000000</td>\n",
       "    </tr>\n",
       "    <tr>\n",
       "      <th>75%</th>\n",
       "      <td>29.000000</td>\n",
       "      <td>8.000000</td>\n",
       "      <td>262.000000</td>\n",
       "      <td>125.000000</td>\n",
       "      <td>3609.000000</td>\n",
       "      <td>17.100000</td>\n",
       "      <td>79.000000</td>\n",
       "      <td>2.000000</td>\n",
       "    </tr>\n",
       "    <tr>\n",
       "      <th>max</th>\n",
       "      <td>46.600000</td>\n",
       "      <td>8.000000</td>\n",
       "      <td>455.000000</td>\n",
       "      <td>230.000000</td>\n",
       "      <td>5140.000000</td>\n",
       "      <td>24.800000</td>\n",
       "      <td>82.000000</td>\n",
       "      <td>3.000000</td>\n",
       "    </tr>\n",
       "  </tbody>\n",
       "</table>\n",
       "</div>"
      ],
      "text/plain": [
       "              mpg   cylinders  displacement  horsepower       weight  \\\n",
       "count  397.000000  397.000000    397.000000  397.000000   397.000000   \n",
       "mean    23.515869    5.458438    193.532746  104.469388  2970.261965   \n",
       "std      7.825804    1.701577    104.379583   38.247388   847.904119   \n",
       "min      9.000000    3.000000     68.000000   46.000000  1613.000000   \n",
       "25%     17.500000    4.000000    104.000000   76.000000  2223.000000   \n",
       "50%     23.000000    4.000000    146.000000   95.000000  2800.000000   \n",
       "75%     29.000000    8.000000    262.000000  125.000000  3609.000000   \n",
       "max     46.600000    8.000000    455.000000  230.000000  5140.000000   \n",
       "\n",
       "       acceleration        year      origin  \n",
       "count    397.000000  397.000000  397.000000  \n",
       "mean      15.555668   75.994962    1.574307  \n",
       "std        2.749995    3.690005    0.802549  \n",
       "min        8.000000   70.000000    1.000000  \n",
       "25%       13.800000   73.000000    1.000000  \n",
       "50%       15.500000   76.000000    1.000000  \n",
       "75%       17.100000   79.000000    2.000000  \n",
       "max       24.800000   82.000000    3.000000  "
      ]
     },
     "execution_count": 62,
     "metadata": {},
     "output_type": "execute_result"
    }
   ],
   "source": [
    "df.describe()"
   ]
  },
  {
   "cell_type": "code",
   "execution_count": 63,
   "metadata": {},
   "outputs": [],
   "source": [
    "corr_matrix  = df.corr()"
   ]
  },
  {
   "cell_type": "code",
   "execution_count": 64,
   "metadata": {},
   "outputs": [
    {
     "data": {
      "text/plain": [
       "array([[False, False, False, False, False, False, False, False],\n",
       "       [False, False, False, False, False, False, False, False],\n",
       "       [False, False, False, False, False, False, False, False],\n",
       "       [False, False, False, False, False, False, False, False],\n",
       "       [False, False, False, False, False, False, False, False],\n",
       "       [False, False, False, False, False, False, False, False],\n",
       "       [False, False, False, False, False, False, False, False],\n",
       "       [False, False, False, False, False, False, False, False]])"
      ]
     },
     "execution_count": 64,
     "metadata": {},
     "output_type": "execute_result"
    }
   ],
   "source": [
    "mask = np.zeros_like(corr_matrix, dtype = np.bool)\n",
    "mask"
   ]
  },
  {
   "cell_type": "code",
   "execution_count": 65,
   "metadata": {},
   "outputs": [
    {
     "data": {
      "text/plain": [
       "array([[ True,  True,  True,  True,  True,  True,  True,  True],\n",
       "       [False,  True,  True,  True,  True,  True,  True,  True],\n",
       "       [False, False,  True,  True,  True,  True,  True,  True],\n",
       "       [False, False, False,  True,  True,  True,  True,  True],\n",
       "       [False, False, False, False,  True,  True,  True,  True],\n",
       "       [False, False, False, False, False,  True,  True,  True],\n",
       "       [False, False, False, False, False, False,  True,  True],\n",
       "       [False, False, False, False, False, False, False,  True]])"
      ]
     },
     "execution_count": 65,
     "metadata": {},
     "output_type": "execute_result"
    }
   ],
   "source": [
    "mask[np.triu_indices_from(mask)] = True\n",
    "mask"
   ]
  },
  {
   "cell_type": "code",
   "execution_count": 66,
   "metadata": {},
   "outputs": [
    {
     "data": {
      "image/png": "[encoded data removed]",
      "text/plain": [
       "<Figure size 864x864 with 2 Axes>"
      ]
     },
     "metadata": {
      "needs_background": "light"
     },
     "output_type": "display_data"
    }
   ],
   "source": [
    "# Correlation heatmap\n",
    "fig, ax = plt.subplots(figsize = (12,12))\n",
    "\n",
    "heatmap = sns.heatmap(corr_matrix,\n",
    "                     mask = mask,\n",
    "                     square = True,\n",
    "                      cmap = \"coolwarm\",\n",
    "                      cbar_kws = {\"ticks\": [-1,-0.5,0,0.5,1]},\n",
    "                     vmin=-1,\n",
    "                     vmax=1,\n",
    "                     annot = True,\n",
    "                     annot_kws = {\"size\": 12})\n",
    "\n",
    "plt.show()"
   ]
  },
  {
   "cell_type": "code",
   "execution_count": null,
   "metadata": {},
   "outputs": [],
   "source": []
  },
  {
   "cell_type": "markdown",
   "metadata": {},
   "source": [
    "### Mileage as function of the Horsepower."
   ]
  },
  {
   "cell_type": "code",
   "execution_count": 67,
   "metadata": {},
   "outputs": [],
   "source": [
    "mileage = df.mpg\n",
    "horsepower = df.horsepower"
   ]
  },
  {
   "cell_type": "code",
   "execution_count": 68,
   "metadata": {},
   "outputs": [
    {
     "data": {
      "image/png": "[encoded data removed]",
      "text/plain": [
       "<Figure size 432x288 with 1 Axes>"
      ]
     },
     "metadata": {
      "needs_background": "light"
     },
     "output_type": "display_data"
    }
   ],
   "source": [
    "fig, ax = plt.subplots()\n",
    "\n",
    "ax.plot(mileage,horsepower, '.', marker = 'o', markerfacecolor = 'none')\n",
    "ax.set(xlabel = 'milleage', ylabel = 'horsepower')\n",
    "fig.suptitle('Scatterplot of the variables', fontsize=16)\n",
    "\n",
    "plt.show()"
   ]
  },
  {
   "cell_type": "code",
   "execution_count": 69,
   "metadata": {},
   "outputs": [],
   "source": [
    "mileage_train, mileage_test, horsepower_train, horsepower_test = train_test_split(mileage, horsepower, test_size=0.3)"
   ]
  },
  {
   "cell_type": "code",
   "execution_count": 70,
   "metadata": {},
   "outputs": [],
   "source": [
    "train = find_erros(mileage_train, horsepower_train, a)"
   ]
  },
  {
   "cell_type": "code",
   "execution_count": 71,
   "metadata": {},
   "outputs": [],
   "source": [
    "test = find_erros(mileage_test, horsepower_test,a)"
   ]
  },
  {
   "cell_type": "code",
   "execution_count": 72,
   "metadata": {},
   "outputs": [],
   "source": [
    "m=list({0,1,2,3,4,5,6,7,8,9})"
   ]
  },
  {
   "cell_type": "code",
   "execution_count": 73,
   "metadata": {},
   "outputs": [
    {
     "data": {
      "image/png": "[encoded data removed]",
      "text/plain": [
       "<Figure size 432x288 with 1 Axes>"
      ]
     },
     "metadata": {
      "needs_background": "light"
     },
     "output_type": "display_data"
    }
   ],
   "source": [
    "fig, ax = plt.subplots()\n",
    "\n",
    "ax.plot(m,train, '-', marker = 'o', color = 'blue')\n",
    "ax.plot(m,test, '-', marker = 'o', color = 'red')\n",
    "ax.set(xlabel = 'm', ylabel = 'error')\n",
    "fig.suptitle('ERMS', fontsize=16)\n",
    "\n",
    "plt.show()"
   ]
  },
  {
   "cell_type": "code",
   "execution_count": 74,
   "metadata": {},
   "outputs": [],
   "source": [
    "M = 3\n",
    "w = get_w(mileage, horsepower, M)\n",
    "y_prediction3 = y_predictor(mileage, w, M)"
   ]
  },
  {
   "cell_type": "code",
   "execution_count": 75,
   "metadata": {},
   "outputs": [
    {
     "data": {
      "image/png": "[encoded data removed]",
      "text/plain": [
       "<Figure size 432x288 with 1 Axes>"
      ]
     },
     "metadata": {
      "needs_background": "light"
     },
     "output_type": "display_data"
    }
   ],
   "source": [
    "fig, ax = plt.subplots()\n",
    "\n",
    "ax.plot(mileage,horsepower, '.', marker = 'o', markerfacecolor = 'none')\n",
    "ax.plot(mileage,y_prediction3, '.',color =  'red')\n",
    "ax.set(xlabel = 'milleage', ylabel = 'horsepower')\n",
    "fig.suptitle('Scatterplot of the variables', fontsize=16)\n",
    "\n",
    "plt.show()"
   ]
  },
  {
   "cell_type": "code",
   "execution_count": 76,
   "metadata": {},
   "outputs": [],
   "source": [
    "M = 0\n",
    "w = get_w(mileage, horsepower, M)\n",
    "y_prediction3 = y_predictor(mileage, w, M)"
   ]
  },
  {
   "cell_type": "code",
   "execution_count": 77,
   "metadata": {},
   "outputs": [
    {
     "data": {
      "image/png": "[encoded data removed]",
      "text/plain": [
       "<Figure size 432x288 with 1 Axes>"
      ]
     },
     "metadata": {
      "needs_background": "light"
     },
     "output_type": "display_data"
    }
   ],
   "source": [
    "fig, ax = plt.subplots()\n",
    "\n",
    "ax.plot(mileage,horsepower, '.', marker = 'o', markerfacecolor = 'none')\n",
    "ax.plot(mileage,y_prediction3, '.',color =  'red')\n",
    "ax.set(xlabel = 'milleage', ylabel = 'horsepower')\n",
    "fig.suptitle('Scatterplot of the variables', fontsize=16)\n",
    "\n",
    "plt.show()"
   ]
  },
  {
   "cell_type": "code",
   "execution_count": 78,
   "metadata": {},
   "outputs": [],
   "source": [
    "M = 9\n",
    "w = get_w(mileage, horsepower, M)\n",
    "y_prediction3 = y_predictor(mileage, w, M)"
   ]
  },
  {
   "cell_type": "code",
   "execution_count": 79,
   "metadata": {},
   "outputs": [
    {
     "data": {
      "image/png": "[encoded data removed]",
      "text/plain": [
       "<Figure size 432x288 with 1 Axes>"
      ]
     },
     "metadata": {
      "needs_background": "light"
     },
     "output_type": "display_data"
    }
   ],
   "source": [
    "fig, ax = plt.subplots()\n",
    "\n",
    "ax.plot(mileage,horsepower, '.', marker = 'o', markerfacecolor = 'none')\n",
    "ax.plot(mileage,y_prediction3, '.',color =  'red')\n",
    "ax.set(xlabel = 'milleage', ylabel = 'horsepower')\n",
    "fig.suptitle('Scatterplot of the variables', fontsize=16)\n",
    "\n",
    "plt.show()"
   ]
  },
  {
   "cell_type": "markdown",
   "metadata": {},
   "source": [
    "### Mileage as a function of the Displacement."
   ]
  },
  {
   "cell_type": "code",
   "execution_count": 80,
   "metadata": {},
   "outputs": [],
   "source": [
    "displacement = df.displacement"
   ]
  },
  {
   "cell_type": "code",
   "execution_count": 81,
   "metadata": {},
   "outputs": [],
   "source": [
    "mileage_train, mileage_test, displacement_train, displacement_test = train_test_split(mileage, displacement, test_size=0.3)"
   ]
  },
  {
   "cell_type": "code",
   "execution_count": 82,
   "metadata": {},
   "outputs": [],
   "source": [
    "b = get_w4(mileage_train, displacement_train, 10)"
   ]
  },
  {
   "cell_type": "code",
   "execution_count": 83,
   "metadata": {},
   "outputs": [],
   "source": [
    "train = find_erros(mileage_train, displacement_train, b )\n",
    "test = find_erros(mileage_test, displacement_test,b)\n",
    "m=list({0,1,2,3,4,5,6,7,8,9})"
   ]
  },
  {
   "cell_type": "code",
   "execution_count": 84,
   "metadata": {},
   "outputs": [
    {
     "data": {
      "image/png": "[encoded data removed]",
      "text/plain": [
       "<Figure size 432x288 with 1 Axes>"
      ]
     },
     "metadata": {
      "needs_background": "light"
     },
     "output_type": "display_data"
    }
   ],
   "source": [
    "fig, ax = plt.subplots()\n",
    "\n",
    "ax.plot(m,train, '-', marker = 'o', color = 'blue')\n",
    "ax.plot(m,test, '-', marker = 'o', color = 'red')\n",
    "ax.set(xlabel = 'm', ylabel = 'error')\n",
    "fig.suptitle('ERMS', fontsize=16)\n",
    "\n",
    "plt.show()"
   ]
  },
  {
   "cell_type": "code",
   "execution_count": 85,
   "metadata": {},
   "outputs": [],
   "source": [
    "M = 2\n",
    "w = get_w(mileage, displacement, M)\n",
    "y_prediction4 = y_predictor(mileage, w, M)"
   ]
  },
  {
   "cell_type": "code",
   "execution_count": 86,
   "metadata": {},
   "outputs": [
    {
     "data": {
      "image/png": "[encoded data removed]",
      "text/plain": [
       "<Figure size 432x288 with 1 Axes>"
      ]
     },
     "metadata": {
      "needs_background": "light"
     },
     "output_type": "display_data"
    }
   ],
   "source": [
    "fig, ax = plt.subplots()\n",
    "\n",
    "ax.plot(mileage,y_prediction4, '.',color =  'red')\n",
    "ax.plot(mileage,displacement, '.', marker = 'o', markerfacecolor = 'none')\n",
    "ax.set(xlabel = 'milleage', ylabel = 'displacement')\n",
    "fig.suptitle('Scatterplot of the variables', fontsize=16)\n",
    "\n",
    "plt.show()"
   ]
  },
  {
   "cell_type": "code",
   "execution_count": 87,
   "metadata": {},
   "outputs": [],
   "source": [
    "x_train, x_test, y_train, y_test = train_test_split(x1, y1, test_size=0.3)"
   ]
  },
  {
   "cell_type": "markdown",
   "metadata": {},
   "source": [
    "### Horsepower as function of the Weight."
   ]
  },
  {
   "cell_type": "code",
   "execution_count": 88,
   "metadata": {},
   "outputs": [],
   "source": [
    "weight = df.weight"
   ]
  },
  {
   "cell_type": "code",
   "execution_count": 89,
   "metadata": {},
   "outputs": [],
   "source": [
    "horsepower_train, horsepower_test, weight_train, weight_test = train_test_split(horsepower, weight, test_size=0.3)"
   ]
  },
  {
   "cell_type": "code",
   "execution_count": 90,
   "metadata": {},
   "outputs": [],
   "source": [
    "c = get_w4(horsepower_train, weight_train, 10)"
   ]
  },
  {
   "cell_type": "code",
   "execution_count": 91,
   "metadata": {},
   "outputs": [],
   "source": [
    "train = find_erros(horsepower_train, weight_train, c )\n",
    "test = find_erros(horsepower_test, weight_test,c)\n",
    "m=list({0,1,2,3,4,5,6,7,8,9})"
   ]
  },
  {
   "cell_type": "code",
   "execution_count": 92,
   "metadata": {},
   "outputs": [
    {
     "data": {
      "image/png": "[encoded data removed]",
      "text/plain": [
       "<Figure size 432x288 with 1 Axes>"
      ]
     },
     "metadata": {
      "needs_background": "light"
     },
     "output_type": "display_data"
    }
   ],
   "source": [
    "fig, ax = plt.subplots()\n",
    "\n",
    "ax.plot(m,train, '-', marker = 'o', color = 'blue')\n",
    "ax.plot(m,test, '-', marker = 'o', color = 'red')\n",
    "ax.set(xlabel = 'm', ylabel = 'error')\n",
    "fig.suptitle('ERMS', fontsize=16)\n",
    "\n",
    "plt.show()"
   ]
  },
  {
   "cell_type": "code",
   "execution_count": 93,
   "metadata": {},
   "outputs": [],
   "source": [
    "M = 2\n",
    "w = get_w(horsepower, weight, M)\n",
    "y_prediction5 = y_predictor(horsepower, w, M)"
   ]
  },
  {
   "cell_type": "code",
   "execution_count": 94,
   "metadata": {},
   "outputs": [
    {
     "data": {
      "image/png": "[encoded data removed]",
      "text/plain": [
       "<Figure size 432x288 with 1 Axes>"
      ]
     },
     "metadata": {
      "needs_background": "light"
     },
     "output_type": "display_data"
    }
   ],
   "source": [
    "fig, ax = plt.subplots()\n",
    "\n",
    "ax.plot(horsepower,y_prediction5, '.',color =  'red')\n",
    "ax.plot(horsepower,weight, '.', marker = 'o', markerfacecolor = 'none')\n",
    "ax.set(xlabel = 'horsepower', ylabel = 'weight')\n",
    "fig.suptitle('Scatterplot of the variables', fontsize=16)\n",
    "\n",
    "plt.show()"
   ]
  }
 ],
 "metadata": {
  "kernelspec": {
   "display_name": "Python 3",
   "language": "python",
   "name": "python3"
  },
  "language_info": {
   "codemirror_mode": {
    "name": "ipython",
    "version": 3
   },
   "file_extension": ".py",
   "mimetype": "text/x-python",
   "name": "python",
   "nbconvert_exporter": "python",
   "pygments_lexer": "ipython3",
   "version": "3.7.3"
  }
 },
 "nbformat": 4,
 "nbformat_minor": 2
}
